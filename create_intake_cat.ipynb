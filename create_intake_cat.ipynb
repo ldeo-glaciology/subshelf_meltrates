{
 "cells": [
  {
   "cell_type": "code",
   "execution_count": 1,
   "id": "cheap-bouquet",
   "metadata": {},
   "outputs": [],
   "source": [
    "import intake\n",
    "# open the zarr directory created from the bedmachine nc using nc_to_zarr.ipynb\n",
    "source = intake.open_zarr('gs://ldeo-glaciology/subshelfmeltrates/adusumulli_2020/A2020_meltrates.zarr')"
   ]
  },
  {
   "cell_type": "code",
   "execution_count": 2,
   "id": "periodic-exhaust",
   "metadata": {},
   "outputs": [
    {
     "name": "stdout",
     "output_type": "stream",
     "text": [
      "Writing AS_meltrates.yaml\n"
     ]
    }
   ],
   "source": [
    "%%writefile AS_meltrates.yaml\n",
    "sources:\n",
    "    AS_meltrates:\n",
    "      args:\n",
    "        urlpath: \"gs://ldeo-glaciology/subshelfmeltrates/adusumulli_2020/A2020_meltrates.zarr\"\n",
    "      description: \"AS_meltrates\"\n",
    "      driver: intake_xarray.xzarr.ZarrSource\n",
    "      metadata: {}"
   ]
  },
  {
   "cell_type": "code",
   "execution_count": 13,
   "id": "disciplinary-somerset",
   "metadata": {},
   "outputs": [],
   "source": [
    "# we can load the catalog from the .yaml file we just made...\n",
    "cat = intake.open_catalog('AS_meltrates.yaml')"
   ]
  },
  {
   "cell_type": "code",
   "execution_count": 50,
   "id": "considered-springer",
   "metadata": {},
   "outputs": [],
   "source": [
    "# ... or, if we have already pushed it back up to github, we can load it from there:\n",
    "cat = intake.open_catalog('https://raw.githubusercontent.com/ldeo-glaciology/subshelf_meltrates/master/AS_meltrates.yaml')"
   ]
  },
  {
   "cell_type": "code",
   "execution_count": null,
   "id": "excessive-occasion",
   "metadata": {},
   "outputs": [],
   "source": [
    "# finally lazily load using the intake catalog...\n",
    "bm_from_intake  = cat[\"AS_meltrates\"].to_dask()"
   ]
  }
 ],
 "metadata": {
  "kernelspec": {
   "display_name": "Python 3",
   "language": "python",
   "name": "python3"
  },
  "language_info": {
   "codemirror_mode": {
    "name": "ipython",
    "version": 3
   },
   "file_extension": ".py",
   "mimetype": "text/x-python",
   "name": "python",
   "nbconvert_exporter": "python",
   "pygments_lexer": "ipython3",
   "version": "3.8.6"
  }
 },
 "nbformat": 4,
 "nbformat_minor": 5
}
