{
 "cells": [
  {
   "cell_type": "markdown",
   "id": "virtual-valve",
   "metadata": {},
   "source": [
    "# Create intake catalog of data results from Adumusulli et al., 2020 \n",
    "\n",
    "Data can be found and downloaded here: https://library.ucsd.edu/dc/object/bb0448974g\n",
    "\n",
    "I used SA_meltrates_to_xarray.ipynb (run locally) to convert to xarray and upload to the bucket as zarrs\n",
    "\n",
    "Paper can be found here: https://www.nature.com/articles/s41561-020-0616-z\n",
    "\n",
    "Code to plot figures from the paper can be found here: https://github.com/sioglaciology/ice_shelf_change"
   ]
  },
  {
   "cell_type": "code",
   "execution_count": 1,
   "id": "about-perception",
   "metadata": {},
   "outputs": [],
   "source": [
    "import intake"
   ]
  },
  {
   "cell_type": "code",
   "execution_count": 19,
   "id": "specialized-secretary",
   "metadata": {},
   "outputs": [
    {
     "name": "stdout",
     "output_type": "stream",
     "text": [
      "Writing A2020_meltrates.yaml\n"
     ]
    }
   ],
   "source": [
    "%%writefile A2020_meltrates.yaml\n",
    "sources:\n",
    "    A2020_meltrates:\n",
    "      args:\n",
    "        urlpath: \"gs://ldeo-glaciology/subshelfmeltrates/adusumulli_2020/A2020_meltrates.zarr\"\n",
    "      description: \"Adusumulli++ 2020 Antarctic ice-shelf thickness change data\"\n",
    "      driver: intake_xarray.xzarr.ZarrSource\n",
    "      metadata: {}"
   ]
  },
  {
   "cell_type": "code",
   "execution_count": 20,
   "id": "mexican-coordination",
   "metadata": {},
   "outputs": [
    {
     "name": "stdout",
     "output_type": "stream",
     "text": [
      "Writing A2020_deltaH.yaml\n"
     ]
    }
   ],
   "source": [
    "%%writefile A2020_deltaH.yaml\n",
    "sources:\n",
    "    A2020_deltaH:\n",
    "      args:\n",
    "        urlpath: \"gs://ldeo-glaciology/subshelfmeltrates/adusumulli_2020/A2020_deltaH.zarr\"\n",
    "      description: \"Adusumulli++ 2020 Antarctic subshelf melt rates\"\n",
    "      driver: intake_xarray.xzarr.ZarrSource\n",
    "      metadata: {}"
   ]
  },
  {
   "cell_type": "code",
   "execution_count": 21,
   "id": "alien-clinton",
   "metadata": {},
   "outputs": [],
   "source": [
    "# we can load the catalog from the .yaml file we just made...\n",
    "cat = intake.open_catalog('A2020_deltaH.yaml')"
   ]
  },
  {
   "cell_type": "code",
   "execution_count": 5,
   "id": "invalid-policy",
   "metadata": {},
   "outputs": [],
   "source": [
    "# ... or, if we have already pushed it back up to github, we can load it from there:\n",
    "cat = intake.open_catalog('https://raw.githubusercontent.com/ldeo-glaciology/subshelf_meltrates/master/A2020_deltaH.yaml')"
   ]
  },
  {
   "cell_type": "code",
   "execution_count": 24,
   "id": "dressed-quality",
   "metadata": {},
   "outputs": [
    {
     "data": {
      "text/plain": [
       "0.763147944"
      ]
     },
     "execution_count": 24,
     "metadata": {},
     "output_type": "execute_result"
    }
   ],
   "source": [
    "# finally lazily load using the intake catalog...\n",
    "A2020_deltaH  = cat[\"A2020_deltaH\"].to_dask()\n",
    "A2020_deltaH.nbytes/1e9"
   ]
  },
  {
   "cell_type": "code",
   "execution_count": null,
   "id": "juvenile-audio",
   "metadata": {},
   "outputs": [],
   "source": []
  }
 ],
 "metadata": {
  "kernelspec": {
   "display_name": "Python 3",
   "language": "python",
   "name": "python3"
  },
  "language_info": {
   "codemirror_mode": {
    "name": "ipython",
    "version": 3
   },
   "file_extension": ".py",
   "mimetype": "text/x-python",
   "name": "python",
   "nbconvert_exporter": "python",
   "pygments_lexer": "ipython3",
   "version": "3.8.6"
  }
 },
 "nbformat": 4,
 "nbformat_minor": 5
}
